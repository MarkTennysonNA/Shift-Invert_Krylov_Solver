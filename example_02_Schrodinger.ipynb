{
 "cells": [
  {
   "cell_type": "markdown",
   "metadata": {},
   "source": [
    "# Import packages"
   ]
  },
  {
   "cell_type": "code",
   "execution_count": 1,
   "metadata": {},
   "outputs": [],
   "source": [
    "#Import packages\n",
    "import numpy as np\n",
    "import torch\n",
    "import pickle\n",
    "import scipy.interpolate\n",
    "import math\n",
    "import time\n",
    "from scipy.integrate import quad\n",
    "import Krylov\n",
    "import matplotlib.pyplot as plt\n",
    "from matplotlib.colors import LogNorm\n",
    "from IPython.display import clear_output\n",
    "import os.path\n",
    "import tikzplotlib as tikz"
   ]
  },
  {
   "cell_type": "markdown",
   "metadata": {},
   "source": [
    "# Initialise variables for the Schrodinger problem\n",
    "\n",
    "Here we generate:\n",
    "- the time step $\\tau$\n",
    "- the number of grid points $N$\n",
    "- the number of time steps $n$\n",
    "- the time grid $t$\n",
    "- the spatial grid $x$\n",
    "- the Krylov subspace dimension $m$\n",
    "- the time-independent part of the Hamiltonian $A=-\\mathrm{i}(-\\nabla + V_0(x))$\n",
    "- the initial vector $v = u_0$"
   ]
  },
  {
   "cell_type": "markdown",
   "metadata": {},
   "source": [
    "### Functions to generate the Hamiltonian, initial vector, and spatial grid"
   ]
  },
  {
   "cell_type": "code",
   "execution_count": null,
   "metadata": {},
   "outputs": [],
   "source": [
    "#Functions to generate variables\n",
    "def absorbing(L,boundarywidth,a,x):\n",
    "    b = [[0,0],[10,0],[12.480605508822585, -0.025158792783650075],\n",
    "    [13.245010702282347, -0.03257908601267223],\n",
    "    [14.009483537430615, -0.026268116475135272],\n",
    "    [14.77405107094279, -0.000733379064415729],\n",
    "    [15.538665953636922, 0.03441324228289511],\n",
    "    [16.303328185513003, 0.07917174756679768],\n",
    "    [17.067983653220235, 0.12255712657404416],\n",
    "    [17.83243619586195, 0.12474871728161308],\n",
    "    [18.596604643411943, 0.06926900436963357],\n",
    "    [19.360502524207917, -0.0411357596085824],\n",
    "    [20.12440040500389, -0.1515405235867986],\n",
    "    [20.88860943756699, -0.19878147883884245],\n",
    "    [21.653305490287323, -0.14715734217166054],\n",
    "    [22.41842768564524, -0.009026250075155673],\n",
    "    [23.183536352665456, 0.12635858946803724],\n",
    "    [23.948266226230043, 0.1848483575184987],\n",
    "    [24.71245496628659, 0.1334880234364868],\n",
    "    [25.47625814871866, 0.0038594915850880263],\n",
    "    [26.24013573700808, -0.11066465122309577],\n",
    "    [27.292474204857513, -0.11267650830120823],\n",
    "    [28.117179064690163, 0.028656934591100747],\n",
    "    [28.88222009002188, 0.15031051136773455],\n",
    "    [29.646794387702897, 0.17721837505511018],\n",
    "    [30.410800495200483, 0.08878363150338853],\n",
    "    [31.174508979268644, -0.06006866822119328],\n",
    "    [31.938555671779326, -0.1402646541129795],\n",
    "    [33.19031246675033, 0.03271543590141368],\n",
    "    [33.955847276408136, 0.2546072308739291],\n",
    "    [34.721212981844666, 0.442170868930047],\n",
    "    [35.48590227039615, 0.49242187932057324],\n",
    "    [36.24987455704949, 0.39712150438557203],\n",
    "    [37.01345452190948, 0.22217980540452786],\n",
    "    [37.77710212845798, 0.06096936919004303],\n",
    "    [38.541094707617866, -0.030211626914990353],\n",
    "    [39.30545931606453, -0.04587067780394838],\n",
    "    [39.93095747062964, -0.03656994563448124],\n",
    "    [40, -0.03656994563448124]]\n",
    "\n",
    "    c = [[0,0],[0.3885984781742664, -0.010642886430429765],\n",
    "    [1.1530374924782816, -0.011197548276172586],\n",
    "    [1.9174832709511476, -0.01037908384525954],\n",
    "[2.6819290494240136, -0.009560619414346272],\n",
    "[3.4463748278968787, -0.008742154983433226],\n",
    "[4.210820606369744, -0.00792369055252018],\n",
    "[4.975266384842611, -0.007105226121607133],\n",
    "[5.739712163315476, -0.006286761690693865],\n",
    "[6.504157941788341, -0.005468297259780819],\n",
    "[7.268603720261208, -0.004649832828867773],\n",
    "[8.033049498734073, -0.0038313683979545043],\n",
    "[8.797420871349582, -0.01811729301025644],\n",
    "[9.561846357315895, -0.02141820740931122],\n",
    "[10.326210965762556, -0.03707725829826902],\n",
    "[11.090534989196115, -0.060975066847162473],\n",
    "[11.854865776798519, -0.08349974911940006],\n",
    "[12.619162743556675, -0.1128900627749172],\n",
    "[13.383459710314828, -0.14228037643043412],\n",
    "[14.14774314873528, -0.174416942639263],\n",
    "[14.91198600214263, -0.2147922665080273],\n",
    "[15.676222091381128, -0.2565407166534477],\n",
    "[16.44045818061963, -0.2982891667988681],\n",
    "[17.204660449013875, -0.346903248327568],\n",
    "[17.96872066986226, -0.42435298166604163],\n",
    "[18.732632078995938, -0.5320114930909461],\n",
    "[19.496604365649265, -0.6273118680259473],\n",
    "[20.261151606654888, -0.6058965094451954],\n",
    "[21.026375264545567, -0.44716852319885225],\n",
    "[21.7917139133067, -0.26509739024935786],\n",
    "[22.55658583441715, -0.17777197038912207],\n",
    "[23.32063252692783, -0.2579679562809081],\n",
    "[24.014253699664152, -0.5271194958633858],\n",
    "[24.638014536512284, -0.8704942602426384],\n",
    "[25.332086653838637, -1.0481040480480557],\n",
    "[25.923900696992913, -0.8229654520272898],\n",
    "[26.342557654381203, -0.48015286523694645],\n",
    "[26.93506615220413, -0.11403997147950617],\n",
    "[27.699194014741025, -0.1777584420514211],\n",
    "[28.46251017701585, -0.4062520658220463],\n",
    "[29.158434925032935, -0.20777782341003692],\n",
    "[29.853811775373117, -0.12052680940715654],\n",
    "[30.37324075661575, -0.4821308209449864],\n",
    "[30.684260960655607, -0.8284417231286718],\n",
    "[31.238714469997795, -1.1337790107087646],\n",
    "[31.796152330636836, -0.8332929850282662],\n",
    "[32.1453985438932, -0.47343649651296893],\n",
    "[32.70279176101783, -0.18201310425839945],\n",
    "[33.22218523037399, -0.550826028748673],\n",
    "[33.394261176485365, -0.8879713694037541],\n",
    "[33.60098545017206, -1.2452186925211106],\n",
    "[34.016420408464555, -1.556471922177869],\n",
    "[34.57329639214441, -1.3700469192115894],\n",
    "[34.78369135479399, -0.9821443828636678],\n",
    "[34.98251620662475, -0.5917368493181039],\n",
    "[35.530117560889295, -0.29855296938403897],\n",
    "[35.9208112708093, -0.5680757866789787],\n",
    "[36.06264371610081, -0.9314343108804866],\n",
    "[36.20677158209174, -1.2990699317823267],\n",
    "[36.35102593804018, -1.6410280913107016],\n",
    "[36.78630020357126, -2.000380273459477],\n",
    "[37.01286603921948, -2.248519674082126],\n",
    "[37.30981981592624, -1.6883353354174808],\n",
    "[37.492659809401744, -1.251121557204666],\n",
    "[37.789998016371506, -0.8480216244918353],\n",
    "[38.16608773708018, -0.5811357862129443],\n",
    "[38.22731844297986, -0.24338102615475843],\n",
    "[38.423764787570484, -1.2763054597243388],\n",
    "[38.49798215008759, -1.728348325308152],\n",
    "[38.572308641195484, -2.1582380869619167],\n",
    "[38.639839397331556, -2.5569195518454393],\n",
    "[38.70732550995321, -2.9646636501548906],\n",
    "[38.77484138491781, -3.366365992847056],\n",
    "[38.842297735196524, -3.7801518467737942],\n",
    "[38.890795473020994, -4.280556039443592],\n",
    "[38.93521576986237, -4.668185754314543],\n",
    "[38.94723975641106, -5.048801477032091],\n",
    "[39.00091614190748, -5.438435189661156],\n",
    "[39.01288060377029, -5.831134423613277],\n",
    "[39.085675042843874, -6.370496105940115],\n",
    "[39.13313535042863, -6.812785780879016],\n",
    "[39.14502540643408, -7.220589403874353],\n",
    "[39.19891012833111, -7.5679308271824155],\n",
    "[39.21081506550803, -7.972713572369107],\n",
    "[39.26473451013848, -8.313006280790338],\n",
    "[39.276649368096386, -8.715775107437937],\n",
    "[39.33055889194586, -9.058081734398257],\n",
    "[39.34242414599886, -9.470920153741334],\n",
    "[39.39638327375324, -9.803157188006182],\n",
    "[39.408243567415745, -10.217002566618802],\n",
    "[39.4445238634624, -10.611186197425171],\n",
    "[39.529435827876775, -11.008338621940032],\n",
    "[39.61983646436875, -11.46690936140919],\n",
    "[39.698694272189606, -11.917436827698193],\n",
    "[39.74534674475166, -12.322182369956208],\n",
    "[39.84527381118041, -12.727877826993131],\n",
    "[39.88052730639557, -13.095378277254108],\n",
    "[39.969010751963005, -13.472891275719922],\n",
    "[40.03679448801409, -13.820217817856513]]\n",
    "\n",
    "    b=np.array(b)\n",
    "    c=np.array(c)\n",
    "    aI=scipy.interpolate.interp1d(c.T[0],c.T[1])\n",
    "    aR=scipy.interpolate.interp1d(b.T[0],b.T[1])\n",
    "    \n",
    "    def ab(x):\n",
    "        return aR(x)+1j*aI(x)\n",
    "    \n",
    "    def rescale(x):\n",
    "        return 40*x/boundarywidth\n",
    "\n",
    "    activeregion=L-boundarywidth\n",
    "\n",
    "    def reparam(x):\n",
    "        z=np.zeros((len(x),1))\n",
    "        for i in range (len(x)):\n",
    "            if (np.absolute(x[i])<activeregion):\n",
    "                z[i]=0\n",
    "            else:\n",
    "                z[i]=np.absolute(x[i])-activeregion\n",
    "        return z\n",
    "    \n",
    "    def Vabsorbing(x):\n",
    "        return ab(reparam(rescale(x)))\n",
    "    \n",
    "    def Omega(a,b,alpha,x):\n",
    "        return np.subtract(np.tanh(alpha*np.subtract(x,a)),np.tanh(alpha*np.subtract(x,b)))/2\n",
    "    \n",
    "    def OmegaActual(x):\n",
    "        return Omega(-a,a,1,x)\n",
    "\n",
    "    def dOmega(a,b,alpha,x):\n",
    "        return np.multiply(np.subtract(np.divide(np.divide(1,np.cosh(np.multiply(alpha,np.subtract(x,a)))),np.cosh(np.multiply(alpha,np.subtract(x,a)))),np.divide(np.divide(1,np.cosh(np.multiply(alpha,np.subtract(x,b)))),np.cosh(np.multiply(alpha,np.subtract(x,b))))),alpha/2)\n",
    "\n",
    "    def dOmegaActual(x):\n",
    "        return dOmega(-a,a,1,x)\n",
    "\n",
    "    def arrayfun(x):\n",
    "        IntVec=np.zeros((len(x),),dtype='complex_')\n",
    "        integrand=lambda y: np.multiply(Potential(y),dOmegaActual(y))\n",
    "        for i in range (1,len(x)+1):\n",
    "            IntVec[i-1],error=quad(integrand,0,x[i-1])\n",
    "        return IntVec#trapz(np.multiply(Potential(x),dOmegaActual),x)\n",
    "\n",
    "    def Potential(x):\n",
    "        softening = .1\n",
    "        return np.subtract(1,np.divide(1,np.sqrt(np.add(np.multiply(x,x),softening))))\n",
    "\n",
    "    V0mod=np.subtract(np.multiply(Potential(x),OmegaActual(x)),arrayfun(x))\n",
    "    xmod=np.multiply(x,OmegaActual(x))-(np.log(np.cosh(np.subtract(a,x)))-np.log(np.cosh(np.add(a,x)))+np.multiply(np.multiply(x,np.divide(1,np.cosh(a))),np.multiply(np.divide(1,np.cosh(np.add(a,x))),np.sinh(x)))+np.multiply(x,np.tanh(a))+np.multiply(x,np.tanh(np.subtract(a,x))))/2\n",
    "    Vabs=Vabsorbing(x)\n",
    "    return V0mod, xmod, Vabs\n",
    "\n",
    "def Setup(dt,N):\n",
    "    # Boxsize=500\n",
    "    Boxsize = N\n",
    "    # L=240\n",
    "    L = 480\n",
    "    dx=2*L/(N-1)\n",
    "    x=np.linspace(-L,L,Boxsize)\n",
    "    xq=np.linspace(-L,L,N)\n",
    "    #print(\"Loading Coulomb Potential with absorbing boundaries\")\n",
    "    Vmod,xmod,Vabs=absorbing(L,L/6,197.5,x)\n",
    "    Vabs.shape=(Boxsize,)\n",
    "    V0 = np.add(Vmod,Vabs) # With absorbing boundaries\n",
    "    # V0=Vmod # Without absorbing boundaries\n",
    "    magnitude=10**-3\n",
    "    Ve=V0+np.multiply(magnitude,xmod)\n",
    "    V0interp=scipy.interpolate.interp1d(x,V0)\n",
    "    Veinterp=scipy.interpolate.interp1d(x,Ve)\n",
    "    V0q=V0interp(xq)\n",
    "    Veq=Veinterp(xq)\n",
    "    H0=np.zeros((N,N),dtype = 'complex_')\n",
    "    He=np.zeros((N,N),dtype = 'complex_')\n",
    "    for i in range (1,N):\n",
    "        H0[i][i]=2*(dx**-2)+V0q[i]\n",
    "        H0[i][i-1]=-1*(dx**-2)\n",
    "        H0[i-1][i]=-1*(dx**-2)\n",
    "        He[i][i]=2*(dx**-2)+Veq[i]\n",
    "        He[i][i-1]=-1*(dx**-2)\n",
    "        He[i-1][i]=-1*(dx**-2)\n",
    "    H0[0,0]=2*(dx**-2)+V0q[0]\n",
    "    He[0,0]=2*(dx**-2)+Veq[0]\n",
    "    k=5\n",
    "    t0=200\n",
    "    #print(\"Diagonalising H0 by brite force\")\n",
    "    e,U=np.linalg.eig(H0)\n",
    "    e=e.real\n",
    "    #e=np.diag(e)[0]\n",
    "    esort=sorted(e)\n",
    "\n",
    "    #print(\"Finding the \",k,\"th eigenfunction of H0\")\n",
    "    e=e.tolist()\n",
    "    i=e.index(esort[k])\n",
    "    psi=U[:,i]\n",
    "    #print(\"Propogating the inital condition by He using expm\")\n",
    "    u0=np.matmul(scipy.linalg.expm(np.multiply(-1j*t0,He)),psi)\n",
    "    #Periodic boundaries\n",
    "    u0[0]=u0[-2]\n",
    "    u0[-1]=u0[1]\n",
    "    return H0,u0,dt,dx,xq,V0q\n",
    "\n",
    "def init(dt,N):\n",
    "    H0,u0,dt,dx,x,V = Setup(dt,N)\n",
    "    A = torch.tensor(-1j*H0,dtype = torch.complex128)\n",
    "    v = torch.tensor(u0,dtype = torch.complex128)\n",
    "    V = torch.from_numpy(V)\n",
    "    return A,v,dt,dx,torch.tensor(x),V\n",
    "\n",
    "#time-dependent pulse\n",
    "# def e(tau):\n",
    "#     a = 1/425\n",
    "#     sigma = t[-1]/5\n",
    "#     alpha = t[-1]/2\n",
    "#     omega = 5e-2*(1000/t[-1])\n",
    "#     return a*np.exp(-((tau-alpha)**4)/(2*sigma**4))*np.sin(omega*tau)\n",
    "# import bisect\n",
    "\n",
    "#magnus expansion\n",
    "# def magnus(t,N,dt,dx):\n",
    "#     roots = torch.tensor([-0.77459667,  0.        ,  0.77459667])\n",
    "#     weights = torch.tensor([0.55555556, 0.88888889, 0.55555556])\n",
    "#     # roots,weights = scipy.special.roots_legendre(31)\n",
    "#     # roots = torch.tensor(roots)\n",
    "#     # weights = torch.tensor(weights)\n",
    "#     Nabla = (torch.diag(torch.ones(N-1,),-1)+torch.diag(torch.ones(N-1,),1)+torch.diag(-2*torch.ones(N,),0))/(dx**2)\n",
    "#     Delta = (torch.diag(torch.ones(N-1,),1) + torch.diag(-torch.ones(N-1,),-1))/(2*dx)\n",
    "#     def Vtilde(V0,t,dt):\n",
    "#         return torch.diag(V0) + torch.diag(r(t,dt)*torch.linspace(-240,240,N))\n",
    "\n",
    "#     def r(t,dt):\n",
    "#         return torch.tensor(dt* e(dt/2 * roots + t+dt/2).dot(weights)/(2*dt))\n",
    "\n",
    "#     def sfunc(zeta):\n",
    "#         return (zeta-dt/2)*e(t+zeta)\n",
    "\n",
    "#     def s(t,dt):\n",
    "#         a = 0\n",
    "#         b = dt\n",
    "#         return torch.tensor(dt*sfunc(dt/2 * roots + dt/2).dot(weights))\n",
    "    \n",
    "#     # out = 1j*dt*Nabla - 1j*dt*Vtilde(V0,t,dt) - s(t,dt)*Delta\n",
    "#     out = -1j*dt*(-Nabla + torch.diag(V0) +e(t)*torch.diag(torch.tensor(torch.linspace(-240,240,N))))\n",
    "#     return out\n",
    "\n"
   ]
  },
  {
   "cell_type": "markdown",
   "metadata": {},
   "source": [
    "## Define function for the time-dependent pulse $\\eta_2(t)$\n",
    "\n",
    "The time-dependent pulse is given in equation (4.19) by\n",
    "\\begin{equation}\n",
    "    \\eta_2(t) =\n",
    "\\begin{cases}\n",
    "\\frac{1}{100}, & \\text{for } 280 \\leq t < 300, \\quad 380 \\leq t < 400, \\quad 480 \\leq t <500, \\\\\n",
    " & 580 \\leq t < 600, \\quad 680 \\leq t <700, \\\\\n",
    "-\\frac{1}{100}, & \\text{for } 300\\leq t < 420, \\quad 400 \\leq t <420,\\quad 500 \\leq t <520, \\\\\n",
    "& 600\\leq t<620, \\quad 700\\leq t <720, \\quad \\text{and}\\\\\n",
    "0, & \\text{otherwise},\n",
    "    % 0, & \\text{for } t<200,\\quad 500\\leq t<600,\\quad 900\\leq t, \\\\\n",
    "    % \\frac{1}{4}, &\\text{for } 200 \\leq t < 300, \\quad 400 \\leq t < 500 ,\\\\\n",
    "    % -\\frac{1}{4}, &\\text{for } 600\\leq t <700,\\quad 800\\leq t < 900 ,\\\\\n",
    "    % \\frac{1}{2}, &\\text{for } 300 \\leq t < 400 ,\\; \\mathrm{and}\\\\\n",
    "    % -\\frac{1}{2}, &\\text{for } 700 \\leq t < 800 .\n",
    "\\end{cases}\n",
    "\\end{equation}"
   ]
  },
  {
   "cell_type": "code",
   "execution_count": null,
   "metadata": {},
   "outputs": [],
   "source": [
    "#time-dependent pulse function\n",
    "def e(tau):\n",
    "    a = 1/100\n",
    "    # time-dependent pulse\n",
    "    # if tau > 250 and tau < 750:\n",
    "    #     if tau%100 >= 80:\n",
    "    #         return a\n",
    "    #     elif tau%100 < 20:\n",
    "    #         return -a\n",
    "    #     else:\n",
    "    #         return 0\n",
    "    # else:\n",
    "    #     return 0\n",
    "    # No time-dependent pulse\n",
    "    return 0 "
   ]
  },
  {
   "cell_type": "markdown",
   "metadata": {},
   "source": [
    "### Define the functions to generate plots"
   ]
  },
  {
   "cell_type": "code",
   "execution_count": 4,
   "metadata": {},
   "outputs": [],
   "source": [
    "#Plot functions\n",
    "import tikzplotlib as tikz\n",
    "#Plot pulse\n",
    "def plotpulse(t,filename = \"pulse.tex\"):\n",
    "    et = torch.zeros((len(t),))\n",
    "    for i in range (len(t)):\n",
    "        et[i] = e(t[i])\n",
    "    plt.plot(t,et)\n",
    "    tikz.save(directory+filename)\n",
    "\n",
    "#Contour plot\n",
    "import tikzplotlib as tikz\n",
    "def Contour(gammaR,gammaI,loss,shifts = [0],randshifts = [0],optshift = [0],Filename = \"Contour.tex\"):\n",
    "    hold = torch.nan_to_num(loss,nan=1e0)\n",
    "    # if torch.log10(torch.max(hold)) < -2:\n",
    "    levels = torch.logspace(torch.log10(torch.max(torch.tensor([torch.min(hold),1e-15]))),min(0,torch.log10(torch.max(hold))),15)\n",
    "    # else:\n",
    "    #     levels = torch.logspace(torch.floor(torch.log10(torch.min(hold))),torch.ceil(torch.log10(torch.max(hold))),int(1+torch.ceil(torch.log10(torch.max(hold)))-torch.floor(torch.log10(torch.min(hold)))))\n",
    "    cont = plt.contour(gammaR,gammaI,loss,levels,norm=LogNorm())\n",
    "    fmt = '%1.1e'  # Exponential format\n",
    "    plt.clabel(cont, inline=True, fontsize=8, fmt=fmt, colors='black', manual=False, inline_spacing=3)\n",
    "    # plt.title(\"Rayleigh\")\n",
    "    if optshift != [0]:\n",
    "        marker = ['o','s']\n",
    "        for i in range(len(optshift)):\n",
    "            plt.plot(optshift[i].real,optshift[i].imag,marker = marker[i],color = 'k')\n",
    "    if randshifts != [0]:\n",
    "        plt.plot(randshifts.real,randshifts.imag,'^',color = [0,0.2,0.8])\n",
    "    if shifts != [0]:\n",
    "        col = [1,0.1,0.2]#],[0,0.6,0.1]\n",
    "        for i in range(len(shifts)):\n",
    "            plt.plot(shifts[i].real,shifts[i].imag,'x',color = 'r')\n",
    "            # for j in range (len(shifts[i])+1):\n",
    "        for i in range(len(shifts)-1):\n",
    "            plt.arrow(shifts[i].real,shifts[i].imag,shifts[i+1].real - shifts[i].real,shifts[i+1].imag - shifts[i].imag,linestyle = (3,(3,6)),color = 'k',head_length = 0)\n",
    "    tikz.save(directory+Filename)\n",
    "\n",
    "def plotwavefunction(x,psi,index,filename = \"wavefunc.tex\"):\n",
    "    for i in range (len(index)):\n",
    "        plt.plot(x,torch.abs(torch.pow(psi[:,index[i]],2)))\n",
    "    tikz.save(directory+filename)\n",
    "\n",
    "def plotpotential(x,V,times,filename = \"potential.tex\"):\n",
    "    for i in range (len(times)):\n",
    "        plt.plot(x,torch.real(torch.diag(V(times[i]))))\n",
    "    # plt.ylim([-2.5,1.5])\n",
    "    tikz.save(directory+filename)\n",
    "\n",
    "def ploterror(t,error,tol=0,filename = \"error.tex\"):\n",
    "    plt.plot(t[1:],error)\n",
    "    plt.yscale('log')\n",
    "    plt.hlines(tol,0,t[-1],'k','--')\n",
    "    tikz.save(directory+filename)\n",
    "\n",
    "def plotshifts(t,shifts,filename = \"shifts.tex\"):\n",
    "    plt.plot(t[1:],shifts.real)\n",
    "    plt.plot(t[1:],shifts.imag)\n",
    "    tikz.save(directory+filename)\n",
    "\n",
    "def plotenergy(t,Potential,Kinetic,Total,filename=\"energy.tex\"):\n",
    "    plt.plot(t,Potential)\n",
    "    plt.plot(t,Kinetic)\n",
    "    plt.plot(t,Total)\n",
    "    tikz.save(directory+filename)\n",
    "\n",
    "def plotiterations(t,iterations,filename=\"iterations.tex\"):\n",
    "    plt.plot(t[1:],iterations)\n",
    "    tikz.save(directory+filename)\n",
    "\n",
    "def plotoptimisation(error,filename=\"optimisation.tex\"):\n",
    "    plt.plot(torch.arange(len(error)),error)\n",
    "    plt.yscale('log')\n",
    "    tikz.save(directory+filename)"
   ]
  },
  {
   "cell_type": "markdown",
   "metadata": {},
   "source": [
    "#### Plot the time-dependent pulse"
   ]
  },
  {
   "cell_type": "code",
   "execution_count": 7,
   "metadata": {},
   "outputs": [
    {
     "data": {
      "image/png": "[encoded data removed]",
      "text/plain": [
       "<Figure size 432x288 with 1 Axes>"
      ]
     },
     "metadata": {
      "needs_background": "light"
     },
     "output_type": "display_data"
    }
   ],
   "source": [
    "#Plot the pulse\n",
    "d = 1e-8\n",
    "tau = [0,80-d,80+d,100-d,100+d,120-d,120+d,180-d,180+d,200-d,200+d,220-d,220+d,280-d,280+d,300-d,300+d,320-d,320+d,380-d,380+d,400-d,400+d,420-d,420+d,480-d,480+d,500-d,500+d,520-d,520+d,580-d,580+d,600-d,600+d,620-d,620+d,680-d,680+d,700-d,700+d,720-d,720+d,780-d,780+d,800-d,800+d,820-d,820+d,880-d,880+d,900-d,900+d,920-d,920+d,1000]\n",
    "plotpulse(tau)\n"
   ]
  },
  {
   "cell_type": "markdown",
   "metadata": {},
   "source": [
    "### Instantiate the variables"
   ]
  },
  {
   "cell_type": "code",
   "execution_count": 6,
   "metadata": {},
   "outputs": [],
   "source": [
    "#Initialise variables.\n",
    "dt = 2 # time step\n",
    "N = 2001 # spatial dimension size\n",
    "n = 100 # number of time steps\n",
    "t = torch.linspace(0,n*dt,n+1) # time\n",
    "m = 5 # Krylov subspace dimension\n",
    "A,v,dt,dx,x,V0 = init(dt,N) # Schrodinger equation variables\n",
    "directory = \"Schrodinger_data/SH/\""
   ]
  },
  {
   "cell_type": "markdown",
   "metadata": {},
   "source": [
    "### Save and Load the variables"
   ]
  },
  {
   "cell_type": "code",
   "execution_count": 23,
   "metadata": {},
   "outputs": [],
   "source": [
    "#Save variables\n",
    "vars = {'A':A,\n",
    "        'v':v,\n",
    "        'dt':dt,\n",
    "        'dx':dx,\n",
    "        'x':x,\n",
    "        'V0':V0,\n",
    "        'n':n,\n",
    "        't':t,\n",
    "        'm':m,\n",
    "        'N':N}\n",
    "with open(directory+\"Variables.pkl\",'wb') as f:\n",
    "    pickle.dump(vars,f)\n",
    "# torch.save(A,directory+\"A.pt\")\n",
    "# torch.save(v,directory+\"v.pt\")\n",
    "# torch.save(dt,directory+\"dt.pt\")\n",
    "# torch.save(dx,directory+\"dx.pt\")\n",
    "# torch.save(x,directory+\"x.pt\")\n",
    "# torch.save(V0,directory+\"V0.pt\")\n",
    "# torch.save(n,directory+\"n.pt\")\n",
    "# torch.save(t,directory+\"t.pt\")\n",
    "# torch.save(m,directory+\"m.pt\")"
   ]
  },
  {
   "cell_type": "code",
   "execution_count": 2,
   "metadata": {},
   "outputs": [],
   "source": [
    "#Load variables\n",
    "directory = \"Schrodinger_data/SH/\"\n",
    "with open(directory+\"Variables.pkl\",'rb') as f:\n",
    "    vars = pickle.load(f)\n",
    "A = vars['A']\n",
    "v = vars['v']\n",
    "dt = vars['dt']\n",
    "dx = vars['dx']\n",
    "x = vars['x']\n",
    "V0 = vars['V0']\n",
    "n = vars['n']\n",
    "t = vars['t']\n",
    "m = vars['m']\n",
    "N = vars['N']\n",
    "# A = torch.load(directory+\"A.pt\")\n",
    "# v = torch.load(directory+\"v.pt\")\n",
    "# N = len(v)\n",
    "# dt = torch.load(directory+\"dt.pt\")\n",
    "# dx = torch.load(directory+\"dx.pt\")\n",
    "# x = torch.load(directory+\"x.pt\")\n",
    "# V0 = torch.load(directory+\"V0.pt\")\n",
    "# n = torch.load(directory+\"n.pt\")\n",
    "# t = torch.load(directory+\"t.pt\")\n",
    "# m = torch.load(directory+\"m.pt\")"
   ]
  },
  {
   "cell_type": "markdown",
   "metadata": {},
   "source": [
    "#### Plot the potential"
   ]
  },
  {
   "cell_type": "code",
   "execution_count": 3,
   "metadata": {},
   "outputs": [
    {
     "data": {
      "text/plain": [
       "[<matplotlib.lines.Line2D at 0x146b7dead70>]"
      ]
     },
     "execution_count": 3,
     "metadata": {},
     "output_type": "execute_result"
    },
    {
     "data": {
      "image/png": "[encoded data removed]",
      "text/plain": [
       "<Figure size 432x288 with 1 Axes>"
      ]
     },
     "metadata": {
      "needs_background": "light"
     },
     "output_type": "display_data"
    }
   ],
   "source": [
    "# Plot the potential\n",
    "plt.plot(x,V0.real)\n",
    "# plt.xlim([-1,1])"
   ]
  },
  {
   "cell_type": "markdown",
   "metadata": {},
   "source": [
    "# Define functions to compute the local and global error as well as observables"
   ]
  },
  {
   "cell_type": "markdown",
   "metadata": {},
   "source": [
    "The local error at time $t_{k+1}$ is given by equation (4.3) in the paper\n",
    "$$\n",
    "\\|\\mathcal{L}(\\tau)\\| = \\|\\hat{v}(\\tau) - \\tilde{v}(\\tau)\\|,\n",
    "$$\n",
    "where $\\hat{v}(\\tau)$ is the single-step approximation to the solution of the Schrodinger equation with time step $\\tau = t_{k+1}-t_k$, and $\\tilde{v}(\\tau)$ is the single-step reference solution. The initial vector is $v = \\hat{v}(t_k)$, the approximate solution at time $t_k$, and exponent matrix is $A=A(t_k)$."
   ]
  },
  {
   "cell_type": "code",
   "execution_count": 12,
   "metadata": {},
   "outputs": [],
   "source": [
    "#local error\n",
    "def compute_LE(t,sols,dx):\n",
    "    #Initialise vector containing local error over time\n",
    "    LE = torch.zeros((len(t)-1,),dtype = torch.float64)\n",
    "    # Record time at start\n",
    "    t0 = time.time()\n",
    "    #Compute local errors\n",
    "    for i in range(len(t)-1):\n",
    "        #Compute reference solution at next time step\n",
    "        M = dt*(A-1j*e(t[i])*torch.diag(x))\n",
    "        ref = Krylov.prop.Pade_propagator(M,sols[:,i])\n",
    "        #Compute L2 norm of the error vector\n",
    "        LE[i] = Krylov.L2.Error(ref,sols[:,i+1],dx)\n",
    "        #Record time after i+1 iterations\n",
    "        t1 = time.time()\n",
    "        #Compute estimated time to complete\n",
    "        eta = (t1-t0)*(t[-1] - t[i])/t[i+1]\n",
    "        #Print progress\n",
    "        print('t = {0:<4.2f} - eta {1:>02d}:{2:>02d}:{3:>02d}'.format(t[i],math.floor(eta/(60**2)),math.floor((eta%(60**2))/60),math.floor(eta%60)),end='\\r')\n",
    "    return LE"
   ]
  },
  {
   "cell_type": "markdown",
   "metadata": {},
   "source": [
    "The global error at time $t_{k+1}$ is given by equation (4.4) in the paper\n",
    "$$\n",
    "\\|\\mathcal{L}(t_{k+1})\\| = \\|\\hat{v}(t_{k+1}) - \\tilde{v}(t_{k+1})\\|,\n",
    "$$\n",
    "where $\\hat{v}(t_{k+1})$ is the multi-step approximation to the solution of the Schrodinger equation, and $\\tilde{v}(t_{k+1})$ is the multi-step reference solution. The initial vector is $v = u_0$."
   ]
  },
  {
   "cell_type": "code",
   "execution_count": 11,
   "metadata": {},
   "outputs": [],
   "source": [
    "#global error\n",
    "def compute_GE(refs,sols,dx):\n",
    "    #Initialise vector containing local error over time\n",
    "    GE = torch.zeros((len(refs[0,:])-1,),dtype = torch.float64)\n",
    "    #Compute ratio of number of time steps\n",
    "    N1 = len(refs[0,:])-1\n",
    "    N2 = len(sols[0,:])-1\n",
    "    dt_factor = int(N2/N1)\n",
    "    #Compute L2 norm of the error vectors\n",
    "    for i in range(1,len(refs[0,:])):\n",
    "        GE[i-1] = Krylov.L2.Error(refs[:,i],sols[:,dt_factor*i],dx)\n",
    "    return GE"
   ]
  },
  {
   "cell_type": "markdown",
   "metadata": {},
   "source": [
    "The observables are calculated by the inner product given in equation (4.18). The specific equations for the kinetic and potential are given in equation (4.17). We denote the potential energy by $E_V$, the kinetic energy by $E_K$ and the total energy by $E_T$. The observables at time $t_k$ are give by\n",
    "$$\n",
    "E_V(t_k) = (\\hat{v}(t_k),\\mathrm{diag}(V)\\hat{v}(t_k)), \\quad E_K(t_k) = (\\hat{v}(t_k), \\nabla \\hat{v}(t_k)), \\quad E_T = E_V + E_K, \\quad \\|\\hat{v}(t_k)\\| = \\sqrt{ (\\hat{v}(t_k),\\hat{v}(t_k))}\n",
    "$$\n",
    "where $\\hat{v}(\\tau)$ is the single-step approximation to the solution of the Schrodinger equation with time step $\\tau = t_{k+1}-t_k$with initial vector is $v = \\hat{v}(t_k)$, the approximate solution at time $t_k$."
   ]
  },
  {
   "cell_type": "code",
   "execution_count": null,
   "metadata": {},
   "outputs": [],
   "source": [
    "#energy and norm\n",
    "def compute_NRG(sols,dx):\n",
    "    #Compute laplacian finite difference matrix\n",
    "    N = len(sols[:,0])\n",
    "    Laplacian = torch.tensor((torch.diag(torch.ones(N-1,),-1)+torch.diag(-2*torch.ones(N,))+torch.diag(torch.ones(N-1,),1))*(dx**-2),dtype=torch.complex128)\n",
    "    #Initialise vectors to store potential and kinetic energies\n",
    "    n = len(sols[0,:])\n",
    "    pot = torch.zeros((n,),dtype = torch.float64)\n",
    "    kin = torch.zeros((n,),dtype = torch.float64)\n",
    "    nrm = torch.zeros((n,),dtype = torch.float64)\n",
    "    for i in range(len(sols[0,:])):\n",
    "        pot[i] = Krylov.L2.IP(sols[:,i],torch.diag(V0) @ sols[:,i],dx).real\n",
    "        kin[i] = Krylov.L2.IP(sols[:,i],-Laplacian @ sols[:,i],dx).real\n",
    "        nrm[i] = Krylov.L2.IP(sols[:,i],sols[:,i],dx).real\n",
    "    tot = pot + kin\n",
    "    return pot, kin, tot, nrm"
   ]
  },
  {
   "cell_type": "markdown",
   "metadata": {},
   "source": [
    "# Compute reference solution by brute force\n",
    "The reference solution is computed by time-stepping the Pade method built in to torch.matrix_exp()."
   ]
  },
  {
   "cell_type": "markdown",
   "metadata": {},
   "source": [
    "### Generate the reference solution using expm"
   ]
  },
  {
   "cell_type": "code",
   "execution_count": 5,
   "metadata": {},
   "outputs": [
    {
     "name": "stdout",
     "output_type": "stream",
     "text": [
      "t = 1000.00 - eta 00:00:00\r"
     ]
    }
   ],
   "source": [
    "#Compute reference solution\n",
    "import time\n",
    "def compute_ref(t,dt,v):\n",
    "    #Initialise list of solutions\n",
    "    sols = torch.zeros((len(v),len(t)),dtype = v.dtype)\n",
    "    sols[:,0] = v\n",
    "    #Record start time of integration\n",
    "    t0 = time.time()\n",
    "    #Begin time integration\n",
    "    for i in range(len(t)-1):\n",
    "        #Compute Hamiltonian at time t[i]\n",
    "        M = dt*(A-1j*e(t[i])*torch.diag(x))\n",
    "        #Compute solution at next time step by Pade\n",
    "        sols[:,i+1] = Krylov.prop.Pade_propagator(M,sols[:,i])\n",
    "        #Record time after i+1 time steps\n",
    "        t1 = time.time()\n",
    "        #Compute estimated time to complete\n",
    "        eta = (t1-t0)*(t[-1] - t[i+1])/t[i+1]\n",
    "        #Print progress\n",
    "        print('t = {0:<4.2f} - eta {1:>02d}:{2:>02d}:{3:>02d}'.format(t[i+1],math.floor(eta/(60**2)),math.floor((eta%(60**2))/60),math.floor(eta%60)),end='\\r')\n",
    "    return sols\n",
    "tau = torch.linspace(0,1000,1001)\n",
    "glo_ref = compute_ref(tau,tau[1]-tau[0],v)\n",
    "torch.save(glo_ref,directory+\"animation_frames.pt\")"
   ]
  },
  {
   "cell_type": "markdown",
   "metadata": {},
   "source": [
    "### Save and load the reference solution"
   ]
  },
  {
   "cell_type": "code",
   "execution_count": null,
   "metadata": {},
   "outputs": [],
   "source": [
    "#Save reference solution\n",
    "torch.save(glo_ref,directory+\"reference.pt\")"
   ]
  },
  {
   "cell_type": "code",
   "execution_count": 9,
   "metadata": {},
   "outputs": [],
   "source": [
    "#Load reference solution\n",
    "glo_ref = torch.load(directory+\"reference.pt\")"
   ]
  },
  {
   "cell_type": "markdown",
   "metadata": {},
   "source": [
    "### Plot the family of solutions on the time domain"
   ]
  },
  {
   "cell_type": "code",
   "execution_count": 13,
   "metadata": {},
   "outputs": [
    {
     "data": {
      "image/png": "[encoded data removed]",
      "text/plain": [
       "<Figure size 432x288 with 1 Axes>"
      ]
     },
     "metadata": {
      "needs_background": "light"
     },
     "output_type": "display_data"
    }
   ],
   "source": [
    "# Plot the family of wavefunctions in the time domain\n",
    "for i in range(len(glo_ref[1,:])):\n",
    "    plt.plot(x,torch.abs(glo_ref[:,i])**2)\n",
    "plt.yscale('log')"
   ]
  },
  {
   "cell_type": "markdown",
   "metadata": {},
   "source": [
    "# Compute the polynomial Krylov approximation\n",
    "The polynomial Krylov approximation is computed by time stepping using the approximation equation (2.2) in the paper,\n",
    "$$\n",
    "\\mathrm{e}^{\\tau A}v \\approx \\beta V_m \\mathrm{e}^{\\tau H_m}e_1.\n",
    "$$\n",
    "Here $beta = \\|v\\|$, and $V_m$ and $H_m$ are obtained through the Arnoldi algorithm (1) with $X = A$."
   ]
  },
  {
   "cell_type": "markdown",
   "metadata": {},
   "source": [
    "### Generate the polynomial Krylov approximation with time step of dt/dt_factor"
   ]
  },
  {
   "cell_type": "code",
   "execution_count": null,
   "metadata": {},
   "outputs": [
    {
     "name": "stdout",
     "output_type": "stream",
     "text": [
      "t = 1000.00 - eta 00:00:00\r"
     ]
    }
   ],
   "source": [
    "#Compute polynomial Krylov approximation\n",
    "def compute_polyK(t,v,m,dx):\n",
    "    #Compute new time grid\n",
    "    # new_t = torch.linspace(t[0],t[-1],dt_factor*(len(t)-1)+1)\n",
    "    #Initialise list of solutions\n",
    "    sols = torch.zeros((len(v),len(t)),dtype = v.dtype)\n",
    "    sols[:,0] = v\n",
    "    #Record start time of integration\n",
    "    t0 = time.time()\n",
    "    #Begin time integration\n",
    "    for i in range(len(t)-1):\n",
    "        #Compute Hamiltonian at time t[i]\n",
    "        M = (t[1]-t[0])*(A-1j*e(t[i])*torch.diag(x))\n",
    "        #Compute solution at next time step by polynomial Krylov\n",
    "        sols[:,i+1] = Krylov.prop.PolyK_propagator(M,sols[:,i],m,dx)\n",
    "        #Record time after i+1 time steps\n",
    "        t1 = time.time()\n",
    "        #Compute estimated time to complete\n",
    "        eta = (t1-t0)*(t[-1] - t[i+1])/t[i+1]\n",
    "        #Print progress\n",
    "        print('t = {0:<4.2f} - eta {1:>02d}:{2:>02d}:{3:>02d}'.format(t[i+1],math.floor(eta/(60**2)),math.floor((eta%(60**2))/60),math.floor(eta%60)),end='\\r')\n",
    "    return sols\n",
    "#Define the factor to decrease the time step size\n",
    "dt_factor = 20\n",
    "newt = torch.linspace(t[0],t[-1],dt_factor*n + 1)\n",
    "#Compute the solution\n",
    "poly_sols = compute_polyK(newt,v,m,dx)"
   ]
  },
  {
   "cell_type": "markdown",
   "metadata": {},
   "source": [
    "### Save and load the polynomial Krylov approximation"
   ]
  },
  {
   "cell_type": "code",
   "execution_count": null,
   "metadata": {},
   "outputs": [],
   "source": [
    "#save the results\n",
    "torch.save(poly_sols,directory+\"polyK_sols_dtby\"+str(dt_factor)+\".pt\")"
   ]
  },
  {
   "cell_type": "code",
   "execution_count": null,
   "metadata": {},
   "outputs": [],
   "source": [
    "#Load polynomial Krylov approximation\n",
    "dt_factor = 1\n",
    "poly_sols = torch.load(directory+\"polyK_sols_dtby\"+str(dt_factor)+\".pt\")"
   ]
  },
  {
   "cell_type": "markdown",
   "metadata": {},
   "source": [
    "### Compute and plot the polynomial Krylov global error"
   ]
  },
  {
   "cell_type": "code",
   "execution_count": null,
   "metadata": {},
   "outputs": [
    {
     "data": {
      "image/png": "[encoded data removed]",
      "text/plain": [
       "<Figure size 432x288 with 1 Axes>"
      ]
     },
     "metadata": {
      "needs_background": "light"
     },
     "output_type": "display_data"
    }
   ],
   "source": [
    "#Compute and plot the global error\n",
    "poly_ref = compute_ref(newt,newt[1]-newt[0],v)\n",
    "poly_GE = compute_GE(glo_ref,poly_sols,dx)\n",
    "torch.save(poly_GE,directory+\"poly_GE_dtby\"+str(dt_factor)+\".pt\")\n",
    "ploterror(t,poly_GE,filename = \"poly_GE_dtby\"+str(dt_factor)+\".tex\")"
   ]
  },
  {
   "cell_type": "markdown",
   "metadata": {},
   "source": [
    "# Compute the shift-and-invert Krylov approximation\n",
    "The shift-and-invert Krylov approximation is computed by time stepping using the approximation equation (2.6) (for the shift-inverted approach proptype = \"SI\") or equation (2.7) (for the Rayleigh approach proptype \"RQ\") in the paper,\n",
    "$$\n",
    "\\mathrm{e}^{\\tau A}v \\approx \\beta V_m \\mathrm{e}^{\\tau A_m}e_1.\n",
    "$$\n",
    "Here $beta = \\|v\\|$, and $A_m$ is defined as equation (2.5)\n",
    "$$\n",
    "A_m = H_m^{-1} + \\alpha I\n",
    "$$\n",
    "for the shift-inverted approach. For the Rayleigh approach $A_m$ is given by equation (2.10) if $A$ is not skew-Hermitian\n",
    "$$\n",
    "A_m = (H_{m}^{-1} + \\alpha I) - h_{m+1,m} (V_m, A v_{m+1}) e_m^\\top H_{m}^{-1},\n",
    "$$\n",
    "or equation (2.15) if $A$ is skew-Hermitian\n",
    "$$\n",
    "A_m = (H_{m}^{-1} + \\alpha I) + h_{m+1,m}^2 (\\kappa + \\overline{\\alpha}) y_m y_m\\mathsf{H}, \\quad \\kappa = \\left( v_{m+1},Av_{m+1} \\right), \\ y_m\\mathsf{H} = \\boldsymbol{e}_m^\\top H_{m}^{-1}\n",
    "$$\n",
    "$V_m, H_m,v_{m+1}$ and $h_{m+1,m}$ are obtained through the Arnoldi algorithm (1) with $X = (A-\\alpha I)^{-1}$.\n",
    "\n",
    "The shifts are computed by minimising equation (3.8) for the shift-inverted approach, $\\alpha^* = \\argmin_\\alpha{\\int_0^\\tau\\|\\mathcal{R}_{SI}(s)\\|\\,\\mathrm{d}s}$,\n",
    "$$\n",
    "\\int_0^\\tau\\|\\mathcal{R}_{SI}(s)\\|\\,\\mathrm{d}s\n",
    "= \\beta h_{m+1,m} \\|(A - \\alpha I) v_{m+1}\\| \\int_0^\\tau |e_m^\\top H_m^{-1} \\mathrm{e}^{s S_m} e_1| \\,\\mathrm{d}s.\n",
    "$$\n",
    "by minimising equation (3.11) for the Rayleigh approach when $A$ is not skew-Hermitian, $\\alpha^* = \\argmin_\\alpha{\\int_0^\\tau\\|\\mathcal{R}_{RA}(s)\\|\\,\\mathrm{d}s}$\n",
    "$$\n",
    "\\int_0^\\tau\\|\\mathcal{R}_{RA}(s)\\|\\,\\mathrm{d}s\n",
    "= \\beta h_{m+1,m} \\|(A - \\alpha I)v_{m+1} - V_m(V_m,Av_{m+1})\\| \\int_0^\\tau |y_m\\mathsf{H} \\mathrm{e}^{s A_m} e_1| \\,\\mathrm{d}s,\n",
    "$$\n",
    "or by minimising equation (3.13a) for the Rayleigh approach when $A$ is skew-Hermitian, $\\alpha^* = \\argmin_\\alpha{\\int_0^\\tau\\|\\mathcal{R}_{RA}(s)\\|\\,\\mathrm{d}s}$\n",
    "$$\n",
    "\\int_0^\\tau\\|\\mathcal{R}_{RA}(s)\\|\\,\\mathrm{d}s\n",
    "= \\beta h_{m+1,m} \\chi\n",
    " \\int_0^\\tau |y_m^\\mathsf{H} \\mathrm{e}^{s A_m} e_1| \\,\\mathrm{d}s,\n",
    "$$\n",
    "\n",
    "$$\n",
    "\\chi = \\left(\\|(A - \\alpha I) v_{m+1}\\|^2 -(h_{m+1,m}|\\kappa + \\overline{\\alpha}| \\|y_m\\|_2)^2\\right)^{1/2}.\n",
    "$$"
   ]
  },
  {
   "cell_type": "markdown",
   "metadata": {},
   "source": [
    "### Define function to execute the time integration using the shift-invert Krylov method"
   ]
  },
  {
   "cell_type": "code",
   "execution_count": 9,
   "metadata": {},
   "outputs": [],
   "source": [
    "#Compute SI solution\n",
    "def compute_SIK(t,dt,v,m,dx,proptype,opttype,surrogate_size,maxiter,ftol,shift = None):\n",
    "    #Initialise list of solutions\n",
    "    sols = torch.zeros((len(v),len(t)),dtype = v.dtype)\n",
    "    sols[:,0] = v\n",
    "    #Initialise variables to store shifts, number of iterations, and objective function value over time\n",
    "    shifts = torch.zeros((len(t)-1,),dtype = torch.complex128)\n",
    "    iters = torch.zeros((len(t)-1,),dtype = torch.int64)\n",
    "    objective = torch.zeros((len(t)-1,),dtype = torch.float64)\n",
    "    #Record start time of integration\n",
    "    t0 = time.time()\n",
    "    #Initialise first guess for shift\n",
    "    if os.path.isfile(directory+\"initial_shift.pt\"):\n",
    "        x0flt = torch.load(directory+\"initial_shift.pt\")\n",
    "        x0 = [x0flt.real,x0flt.imag]\n",
    "        # x0 = None\n",
    "    else:\n",
    "        x0 = None\n",
    "    #Initialise the time-independent part of the surrogate Hamiltonian\n",
    "    As,vs,dts,dxs,xs,V0s = init(dt,surrogate_size)\n",
    "    #Begin time integration\n",
    "    for i in range(len(t)-1):\n",
    "        #Record time after i+1 time steps\n",
    "        t1 = time.time()\n",
    "        #Compute estimated time to complete\n",
    "        eta = (t1-t0)*(t[-1] - t[i])/t[i+1]\n",
    "        #Print progress\n",
    "        print('t = {0:<4.2f} - eta {1:>02d}:{2:>02d}:{3:>02d}'.format(t[i],math.floor(eta/(60**2)),math.floor((eta%(60**2))/60),math.floor(eta%60)),end='\\n')\n",
    "        #Compute true Hamiltonian at time t[i]\n",
    "        M = dt*(A-1j*e(t[i])*torch.diag(x))\n",
    "        #Compute surrogate Hamiltonian at time t[i]\n",
    "        Ms = dt*(As-1j*e(t[i])*torch.diag(xs))\n",
    "        # print(len(Ms))\n",
    "        #Compute surrogate vector\n",
    "        vs = Krylov.resample.downsample1D(sols[:,i],surrogate_size,[x[0],x[-1]])\n",
    "        # print(len(vs))\n",
    "        #Compute solution at next time step by Pade\n",
    "        sols[:,i+1],opt_data = Krylov.prop.SIK_propagator(true_A = M,\n",
    "                                                true_v = sols[:,i],\n",
    "                                                true_dx = dx,\n",
    "                                                surrogate_A = Ms,\n",
    "                                                surrogate_v = vs,\n",
    "                                                surrogate_dx = dxs,\n",
    "                                                m = m,\n",
    "                                                proptype = proptype,\n",
    "                                                opttype = proptype+'_'+opttype,\n",
    "                                                maxiter=maxiter,\n",
    "                                                ftol=ftol,\n",
    "                                                opt_bounds=[(0,100),(-100,0)],\n",
    "                                                x0=x0,\n",
    "                                                shift = shift,\n",
    "                                                rand_n = 30,\n",
    "                                                reorth_iters = 0)\n",
    "        #Save random initial guesses for shift as well as best initial guess\n",
    "        if x0==None and i==0 and shift == None:\n",
    "            torch.save(opt_data['random_shifts'],directory+\"random_shifts.pt\")\n",
    "            torch.save(opt_data['shifts'][0],directory+\"initial_shift.pt\")\n",
    "        #Use best shift as initial guess for the next time step\n",
    "        x0 = [opt_data['shifts'][-1].real,opt_data['shifts'][-1].imag]\n",
    "        #Use best shift as shift for next time step        \n",
    "        shift = opt_data['shifts'][-1]\n",
    "\n",
    "        #Record shifts, number of iterations and objective function value\n",
    "        shifts[i] = opt_data['shifts'][-1]\n",
    "        if shift == None:\n",
    "            iters[i] = len(opt_data['shifts'])-1\n",
    "            objective[i] = opt_data['objective'][-1]\n",
    "        #Clear outputs\n",
    "        time.sleep(1)\n",
    "        clear_output(wait=True)\n",
    "    #Collect optimiser data into a dict\n",
    "    optimiser_data = {'shifts':shifts,\n",
    "                      'iterations':iters,\n",
    "                      'objective':objective}\n",
    "    return sols, optimiser_data"
   ]
  },
  {
   "cell_type": "markdown",
   "metadata": {},
   "source": [
    "### Generate the shift-and-invert Krylov approximation"
   ]
  },
  {
   "cell_type": "code",
   "execution_count": 12,
   "metadata": {},
   "outputs": [
    {
     "name": "stdout",
     "output_type": "stream",
     "text": [
      "t = 198.00 - eta 00:00:07\n"
     ]
    }
   ],
   "source": [
    "#Compute shift-invert Krylov solutions\n",
    "proptype = \"SI\" # \"SI\" for shift-inverted or \"RQ\" for Rayleigh approach\n",
    "opttype = \"defect\" # \"defect\" for defect integral objective function or \"l2\" for error norm objective function\n",
    "surrogate_size = len(v)\n",
    "maxiter = 15\n",
    "ftol =3e-13\n",
    "# m = 25\n",
    "# Optimise the shift\n",
    "SIK_sols, optimiser_data = compute_SIK(t,dt,v,m,dx,proptype,opttype,surrogate_size,maxiter,ftol) \n",
    "# Compute with fixed shift\n",
    "# opttype = \"NoOpt\"\n",
    "# SIK_sols, optimiser_data = compute_SIK(t,dt,v,m,dx,proptype,opttype,surrogate_size,maxiter,ftol,shift = 46.54-27.26j) \n",
    "\n",
    "import winsound\n",
    "winsound.PlaySound(\"SystemHand\", winsound.SND_ALIAS)\n"
   ]
  },
  {
   "cell_type": "markdown",
   "metadata": {},
   "source": [
    "### Save and load shift-invert Krylov data"
   ]
  },
  {
   "cell_type": "code",
   "execution_count": null,
   "metadata": {},
   "outputs": [],
   "source": [
    "#Save outputs\n",
    "surrogate_type = \"no_surrogate\"\n",
    "torch.save(SIK_sols,directory+surrogate_type+\"/\"+proptype+\"/SIK_sols_\"+opttype+\".pt\")\n",
    "with open(directory+surrogate_type+\"/\"+proptype+\"/optimiser_data_\"+opttype+\".pkl\",'wb') as f:\n",
    "    pickle.dump(optimiser_data,f)"
   ]
  },
  {
   "cell_type": "code",
   "execution_count": null,
   "metadata": {},
   "outputs": [],
   "source": [
    "#Load solutions and optimiser data\n",
    "proptype = \"SI\" # \"SI\" for shift-inverted or \"RQ\" for Rayleigh approach\n",
    "opttype = \"defect\" # \"defect\" for defect integral objective function or \"l2\" for error norm objective function\n",
    "surrogate_type = \"no_surrogate\" # \"no_surrogate\" for optimising on the true problem or \"surrogate\" for optimising on the surrogate problem\n",
    "SIK_sols = torch.load(directory+surrogate_type+\"/\"+proptype+\"/SIK_sols_\"+opttype+\".pt\")\n",
    "with open(directory+surrogate_type+\"/\"+proptype+\"/optimiser_data_\"+opttype+\".pkl\",'rb') as f:\n",
    "    optimiser_data = pickle.load(f)"
   ]
  },
  {
   "cell_type": "markdown",
   "metadata": {},
   "source": [
    "# Generate plots"
   ]
  },
  {
   "cell_type": "markdown",
   "metadata": {},
   "source": [
    "### Plot the difference in norm to the reference solution"
   ]
  },
  {
   "cell_type": "markdown",
   "metadata": {},
   "source": [
    "### Plot change in norm from the initial vector"
   ]
  },
  {
   "cell_type": "code",
   "execution_count": 13,
   "metadata": {},
   "outputs": [
    {
     "data": {
      "image/png": "[encoded data removed]",
      "text/plain": [
       "<Figure size 432x288 with 1 Axes>"
      ]
     },
     "metadata": {
      "needs_background": "light"
     },
     "output_type": "display_data"
    }
   ],
   "source": [
    "#Plot norm change\n",
    "diff = torch.zeros((len(t)-1,))\n",
    "for i in range(1,len(t)):\n",
    "    diff[i-1] = torch.abs(Krylov.L2.Norm(SIK_sols[:,0],dx) - Krylov.L2.Norm(SIK_sols[:,i],dx))\n",
    "plt.plot(t[1:],diff)\n",
    "plt.yscale('log')\n",
    "tikz.save(directory + \"SI_norm_diff.tex\")"
   ]
  },
  {
   "cell_type": "markdown",
   "metadata": {},
   "source": [
    "### Plot the local error"
   ]
  },
  {
   "cell_type": "code",
   "execution_count": null,
   "metadata": {},
   "outputs": [
    {
     "name": "stdout",
     "output_type": "stream",
     "text": [
      "t = 990.00 - eta 00:00:15\r"
     ]
    },
    {
     "data": {
      "image/png": "[encoded data removed]",
      "text/plain": [
       "<Figure size 432x288 with 1 Axes>"
      ]
     },
     "metadata": {
      "needs_background": "light"
     },
     "output_type": "display_data"
    }
   ],
   "source": [
    "#Local error\n",
    "LE = compute_LE(t,SIK_sols,dx)\n",
    "torch.save(LE,directory+surrogate_type+\"/\"+proptype+\"/SIK_LE_\"+opttype+\".pt\")\n",
    "ploterror(t,LE,filename = surrogate_type+\"/\"+proptype+\"/SIK_LE_\"+opttype+\".tex\")"
   ]
  },
  {
   "cell_type": "markdown",
   "metadata": {},
   "source": [
    "### Plot the global error"
   ]
  },
  {
   "cell_type": "code",
   "execution_count": null,
   "metadata": {},
   "outputs": [
    {
     "name": "stderr",
     "output_type": "stream",
     "text": [
      "C:\\Users\\mt767\\AppData\\Local\\Temp\\ipykernel_15108\\1864874111.py:11: UserWarning: Casting complex values to real discards the imaginary part (Triggered internally at ..\\aten\\src\\ATen\\native\\Copy.cpp:250.)\n",
      "  GE[i-1] = Krylov.L2.Error(refs[:,i],sols[:,dt_factor*i],dx)\n"
     ]
    },
    {
     "data": {
      "image/png": "[encoded data removed]",
      "text/plain": [
       "<Figure size 432x288 with 1 Axes>"
      ]
     },
     "metadata": {
      "needs_background": "light"
     },
     "output_type": "display_data"
    }
   ],
   "source": [
    "#Global error\n",
    "GE = compute_GE(glo_ref,SIK_sols,dx)\n",
    "torch.save(GE,directory+surrogate_type+\"/\"+proptype+\"/SIK_GE_\"+opttype+\".pt\")\n",
    "ploterror(t,GE,filename = surrogate_type+\"/\"+proptype+\"/SIK_GE_\"+opttype+\".tex\")"
   ]
  },
  {
   "cell_type": "markdown",
   "metadata": {},
   "source": [
    "### Plot the energies"
   ]
  },
  {
   "cell_type": "code",
   "execution_count": null,
   "metadata": {},
   "outputs": [
    {
     "name": "stderr",
     "output_type": "stream",
     "text": [
      "C:\\Users\\mt767\\AppData\\Local\\Temp\\ipykernel_3884\\529446653.py:4: UserWarning: To copy construct from a tensor, it is recommended to use sourceTensor.clone().detach() or sourceTensor.clone().detach().requires_grad_(True), rather than torch.tensor(sourceTensor).\n",
      "  Laplacian = torch.tensor((torch.diag(torch.ones(N-1,),-1)+torch.diag(-2*torch.ones(N,))+torch.diag(torch.ones(N-1,),1))*(dx**-2),dtype=torch.complex128)\n"
     ]
    }
   ],
   "source": [
    "#Energies\n",
    "PE,KE,TE = compute_NRG(SIK_sols,dx)\n",
    "torch.save(LE,directory+surrogate_type+\"/\"+proptype+\"/SIK_PE_\"+opttype+\".pt\")\n",
    "torch.save(LE,directory+surrogate_type+\"/\"+proptype+\"/SIK_KE_\"+opttype+\".pt\")\n",
    "torch.save(LE,directory+surrogate_type+\"/\"+proptype+\"/SIK_TE_\"+opttype+\".pt\")\n",
    "plotenergy(t,PE,KE,TE,filename=surrogate_type+\"/\"+proptype+\"/SIK_PE_\"+opttype+\".tex\")"
   ]
  },
  {
   "cell_type": "markdown",
   "metadata": {},
   "source": [
    "# Plot optimisation data"
   ]
  },
  {
   "cell_type": "markdown",
   "metadata": {},
   "source": [
    "### Plot the number of iterations at each time step"
   ]
  },
  {
   "cell_type": "code",
   "execution_count": null,
   "metadata": {},
   "outputs": [
    {
     "data": {
      "image/png": "[encoded data removed]",
      "text/plain": [
       "<Figure size 432x288 with 1 Axes>"
      ]
     },
     "metadata": {
      "needs_background": "light"
     },
     "output_type": "display_data"
    }
   ],
   "source": [
    "#Iterations\n",
    "iters = optimiser_data['iterations']\n",
    "plotiterations(t,iters,filename = surrogate_type+\"/\"+proptype+\"/SIK_iters_\"+opttype+\".tex\")"
   ]
  },
  {
   "cell_type": "markdown",
   "metadata": {},
   "source": [
    "### Plot the shifts over time"
   ]
  },
  {
   "cell_type": "code",
   "execution_count": null,
   "metadata": {},
   "outputs": [
    {
     "data": {
      "image/png": "[encoded data removed]",
      "text/plain": [
       "<Figure size 432x288 with 1 Axes>"
      ]
     },
     "metadata": {
      "needs_background": "light"
     },
     "output_type": "display_data"
    }
   ],
   "source": [
    "#shifts\n",
    "shifts = optimiser_data['shifts']\n",
    "plotshifts(t,shifts,filename = surrogate_type+\"/\"+proptype+\"/SIK_shifts_\"+opttype+\".tex\")"
   ]
  },
  {
   "cell_type": "markdown",
   "metadata": {},
   "source": [
    "### Plot the value of the defect integral over time"
   ]
  },
  {
   "cell_type": "code",
   "execution_count": null,
   "metadata": {},
   "outputs": [
    {
     "data": {
      "image/png": "[encoded data removed]",
      "text/plain": [
       "<Figure size 432x288 with 1 Axes>"
      ]
     },
     "metadata": {
      "needs_background": "light"
     },
     "output_type": "display_data"
    }
   ],
   "source": [
    "#defect integral\n",
    "objective = optimiser_data['objective']\n",
    "ploterror(t,objective,filename = surrogate_type+\"/\"+proptype+\"/SIK_objective_\"+opttype+\".tex\")"
   ]
  },
  {
   "cell_type": "markdown",
   "metadata": {},
   "source": [
    "# Compute and plot contours of the defect-integral"
   ]
  },
  {
   "cell_type": "markdown",
   "metadata": {},
   "source": [
    "### Define function to compute the defect-integral"
   ]
  },
  {
   "cell_type": "code",
   "execution_count": null,
   "metadata": {},
   "outputs": [],
   "source": [
    "#Parameter sweep\n",
    "def Sweep(gammaR,gammaI,A,v,m,dx,loss_fn):\n",
    "    loss = torch.zeros((len(gammaI),len(gammaR)),dtype = torch.float64)\n",
    "    t0 = time.time()\n",
    "    for i in range(len(gammaI)):\n",
    "        for j in range(len(gammaR)):\n",
    "            loss[i,j] = Krylov.Optimise.loss(A,v,1,dx,m,[gammaR[j],gammaI[i]],loss_fn)\n",
    "            t1 = time.time()\n",
    "            eta = (t1-t0)*(len(gammaR)*len(gammaI) - (i*len(gammaR) + j))/(i*len(gammaR) + j+1)\n",
    "            print('index [{0:02d},{1:02d}] - eta {2:02d}:{3:02d}:{4:02d}'.format(i,j,math.floor(eta/(60**2)),math.floor((eta%(60**2))/60),math.floor(eta%60)), end = '\\r')\n",
    "    return loss\n",
    "\n"
   ]
  },
  {
   "cell_type": "code",
   "execution_count": null,
   "metadata": {},
   "outputs": [],
   "source": [
    "#Contour plot\n",
    "import tikzplotlib as tikz\n",
    "def Contour(gammaR,gammaI,loss,shifts = [0],randshifts = [0],optshift = [0],Filename = \"Contour.tex\"):\n",
    "    hold = torch.nan_to_num(loss,nan=1e0)\n",
    "    # if torch.log10(torch.max(hold)) < -2:\n",
    "    levels = torch.logspace(torch.log10(torch.max(torch.tensor([torch.min(hold),1e-15]))),min(0,torch.log10(torch.max(hold))),15)\n",
    "    # else:\n",
    "    #     levels = torch.logspace(torch.floor(torch.log10(torch.min(hold))),torch.ceil(torch.log10(torch.max(hold))),int(1+torch.ceil(torch.log10(torch.max(hold)))-torch.floor(torch.log10(torch.min(hold)))))\n",
    "    cont = plt.contour(gammaR,gammaI,loss,levels,norm=LogNorm())\n",
    "    fmt = '%1.1e'  # Exponential format\n",
    "    plt.clabel(cont, inline=True, fontsize=8, fmt=fmt, colors='black', manual=False, inline_spacing=3)\n",
    "    # plt.title(\"Rayleigh\")\n",
    "    if optshift != [0]:\n",
    "        marker = ['o','s']\n",
    "        for i in range(len(optshift)):\n",
    "            plt.plot(optshift[i].real,optshift[i].imag,marker = marker[i],color = 'k')\n",
    "    if randshifts != [0]:\n",
    "        plt.plot(randshifts.real,randshifts.imag,'^',color = [0,0.2,0.8])\n",
    "    if shifts != [0]:\n",
    "        col = [1,0.1,0.2]#],[0,0.6,0.1]\n",
    "        for i in range(len(shifts)):\n",
    "            plt.plot(shifts[i].real,shifts[i].imag,'x',color = 'r')\n",
    "            # for j in range (len(shifts[i])+1):\n",
    "        for i in range(len(shifts)-1):\n",
    "            plt.arrow(shifts[i].real,shifts[i].imag,shifts[i+1].real - shifts[i].real,shifts[i+1].imag - shifts[i].imag,linestyle = (3,(3,6)),color = 'k',head_length = 0)\n",
    "    tikz.save(\"Schrodinger_data/\"+Filename)"
   ]
  },
  {
   "cell_type": "markdown",
   "metadata": {},
   "source": [
    "### Generate the contour plot"
   ]
  },
  {
   "cell_type": "code",
   "execution_count": 3,
   "metadata": {},
   "outputs": [
    {
     "ename": "NameError",
     "evalue": "name 'torch' is not defined",
     "output_type": "error",
     "traceback": [
      "\u001b[1;31m---------------------------------------------------------------------------\u001b[0m",
      "\u001b[1;31mNameError\u001b[0m                                 Traceback (most recent call last)",
      "Input \u001b[1;32mIn [3]\u001b[0m, in \u001b[0;36m<cell line: 3>\u001b[1;34m()\u001b[0m\n\u001b[0;32m      1\u001b[0m \u001b[38;5;66;03m#Generate contour plot\u001b[39;00m\n\u001b[0;32m      2\u001b[0m gammaN \u001b[38;5;241m=\u001b[39m \u001b[38;5;241m31\u001b[39m\n\u001b[1;32m----> 3\u001b[0m gammaR \u001b[38;5;241m=\u001b[39m \u001b[43mtorch\u001b[49m\u001b[38;5;241m.\u001b[39mlinspace(\u001b[38;5;241m0\u001b[39m,\u001b[38;5;241m100\u001b[39m,gammaN)\n\u001b[0;32m      4\u001b[0m gammaI \u001b[38;5;241m=\u001b[39m torch\u001b[38;5;241m.\u001b[39mlinspace(\u001b[38;5;241m-\u001b[39m\u001b[38;5;241m50\u001b[39m,\u001b[38;5;241m0\u001b[39m,gammaN)\n\u001b[0;32m      6\u001b[0m proptype \u001b[38;5;241m=\u001b[39m \u001b[38;5;124m\"\u001b[39m\u001b[38;5;124mSI\u001b[39m\u001b[38;5;124m\"\u001b[39m \u001b[38;5;66;03m# \"SI\" for shift-inverted or \"RQ\" for Rayleigh approach\u001b[39;00m\n",
      "\u001b[1;31mNameError\u001b[0m: name 'torch' is not defined"
     ]
    }
   ],
   "source": [
    "#Generate contour plot\n",
    "gammaN = 31\n",
    "gammaR = torch.linspace(0,100,gammaN)\n",
    "gammaI = torch.linspace(-50,0,gammaN)\n",
    "\n",
    "proptype = \"SI\" # \"SI\" for shift-inverted or \"RQ\" for Rayleigh approach\n",
    "opttype = \"defect\" # \"defect\" for defect integral objective function or \"l2\" for error norm objective function\n",
    "N0 = 2501\n",
    "A0,u0,dt,dx0,x0,V0 = init(dt,N0) # Schrodinger equation variables\n",
    "v0 = Krylov.resample.downsample1D(v,N0,[-240,240])\n",
    "\n",
    "loss = Sweep(gammaR,gammaI,dt*A0,v0,m,dx0,proptype+\"_\"+opttype)\n",
    "Contour(gammaR,gammaI,loss,Filename = \"Contour_N=\"+str(N0)+\".tex\")"
   ]
  }
 ],
 "metadata": {
  "kernelspec": {
   "display_name": "Python 3",
   "language": "python",
   "name": "python3"
  },
  "language_info": {
   "codemirror_mode": {
    "name": "ipython",
    "version": 3
   },
   "file_extension": ".py",
   "mimetype": "text/x-python",
   "name": "python",
   "nbconvert_exporter": "python",
   "pygments_lexer": "ipython3",
   "version": "3.10.5"
  }
 },
 "nbformat": 4,
 "nbformat_minor": 2
}
